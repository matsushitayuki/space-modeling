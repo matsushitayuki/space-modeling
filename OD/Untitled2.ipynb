{
 "cells": [
  {
   "cell_type": "code",
   "execution_count": 1,
   "metadata": {
    "collapsed": false
   },
   "outputs": [],
   "source": [
    "%matplotlib inline"
   ]
  },
  {
   "cell_type": "code",
   "execution_count": 2,
   "metadata": {
    "collapsed": true
   },
   "outputs": [],
   "source": [
    "import numpy as np\n",
    "import matplotlib.pyplot as plt\n",
    "from OD_setup import *"
   ]
  },
  {
   "cell_type": "code",
   "execution_count": 6,
   "metadata": {
    "collapsed": false
   },
   "outputs": [
    {
     "name": "stdout",
     "output_type": "stream",
     "text": [
      "[[ 0.70710678  0.70710678]\n",
      " [ 0.70710678 -0.70710678]]\n",
      "[[ 0.70710678  0.70710678]\n",
      " [ 0.70710678 -0.70710678]]\n",
      "[[ 0.70710678  0.70710678]\n",
      " [ 0.70710678 -0.70710678]]\n",
      "[[ 0.79706921  0.79729093]\n",
      " [ 0.60388766 -0.6035952 ]]\n",
      "[[ 0.70710678  0.70710678]\n",
      " [ 0.70710678 -0.70710678]]\n",
      "[[ 0.88554785  0.88592133]\n",
      " [ 0.46454817 -0.46383552]]\n",
      "[[ 0.70710678  0.70710678]\n",
      " [ 0.70710678 -0.70710678]]\n",
      "[[ 0.97358848  0.9737026 ]\n",
      " [ 0.22831005 -0.22782284]]\n",
      "[[ 0.70710678  0.70710678]\n",
      " [ 0.70710678 -0.70710678]]\n",
      "[[  1.00000000e+000   1.00000000e+000]\n",
      " [  1.34138823e-320  -1.25838520e-320]]\n",
      "[[ 0.70710678  0.70710678]\n",
      " [ 0.70710678 -0.70710678]]\n",
      "[[  1.00000000e+000   1.00000000e+000]\n",
      " [  2.47032823e-323  -2.47032823e-323]]\n",
      "[[ 0.70710678  0.70710678]\n",
      " [ 0.70710678 -0.70710678]]\n",
      "[[  1.00000000e+000   1.00000000e+000]\n",
      " [  1.97626258e-323  -1.97626258e-323]]\n",
      "[[ 0.70710678  0.70710678]\n",
      " [ 0.70710678 -0.70710678]]\n",
      "[[  1.00000000e+000   1.00000000e+000]\n",
      " [  1.48219694e-323  -1.48219694e-323]]\n",
      "[[ 0.70710678  0.70710678]\n",
      " [ 0.70710678 -0.70710678]]\n",
      "[[  1.00000000e+000   1.00000000e+000]\n",
      " [  1.48219694e-323  -1.48219694e-323]]\n",
      "[[ 0.70710678  0.70710678]\n",
      " [ 0.70710678 -0.70710678]]\n",
      "[[  1.00000000e+000   1.00000000e+000]\n",
      " [  1.48219694e-323  -1.48219694e-323]]\n"
     ]
    },
    {
     "ename": "NameError",
     "evalue": "name 'sys' is not defined",
     "output_type": "error",
     "traceback": [
      "\u001b[0;31m---------------------------------------------------------------------------\u001b[0m",
      "\u001b[0;31mNameError\u001b[0m                                 Traceback (most recent call last)",
      "\u001b[0;32m<ipython-input-6-677bf5bfb0ed>\u001b[0m in \u001b[0;36m<module>\u001b[0;34m()\u001b[0m\n\u001b[1;32m     55\u001b[0m     \u001b[0mprint\u001b[0m\u001b[0;34m(\u001b[0m\u001b[0mD\u001b[0m\u001b[0;34m)\u001b[0m\u001b[0;34m\u001b[0m\u001b[0m\n\u001b[1;32m     56\u001b[0m \u001b[0;34m\u001b[0m\u001b[0m\n\u001b[0;32m---> 57\u001b[0;31m \u001b[0msys\u001b[0m\u001b[0;34m.\u001b[0m\u001b[0mexit\u001b[0m\u001b[0;34m(\u001b[0m\u001b[0;36m0\u001b[0m\u001b[0;34m)\u001b[0m\u001b[0;34m\u001b[0m\u001b[0m\n\u001b[0m\u001b[1;32m     58\u001b[0m \u001b[0;34m\u001b[0m\u001b[0m\n\u001b[1;32m     59\u001b[0m \u001b[0mplt\u001b[0m\u001b[0;34m.\u001b[0m\u001b[0msubplot\u001b[0m\u001b[0;34m(\u001b[0m\u001b[0;36m3\u001b[0m\u001b[0;34m,\u001b[0m\u001b[0;36m1\u001b[0m\u001b[0;34m,\u001b[0m\u001b[0;36m1\u001b[0m\u001b[0;34m)\u001b[0m\u001b[0;34m\u001b[0m\u001b[0m\n",
      "\u001b[0;31mNameError\u001b[0m: name 'sys' is not defined"
     ]
    }
   ],
   "source": [
    "import random\n",
    "\n",
    "M = 2  #dim of signal\n",
    "K = 2  #dim of dictionary \n",
    "\n",
    "assert M >= K\n",
    "\n",
    "\n",
    "x_set = []\n",
    "for k in range(K):\n",
    "    x = np.zeros((M,1),dtype=float)\n",
    "    x[0:k] = 1.0\n",
    "    x_set.append(x)\n",
    "\n",
    "temp = []\n",
    "temp_F = []\n",
    "temp_L = []\n",
    "\n",
    "T = 10000\n",
    "\n",
    "for lamda in [0.01*i for i in range(10)]:\n",
    "    np.random.seed(10)\n",
    "    temp_lamda = 0\n",
    "    temp_lamda_F = 0\n",
    "    temp_lamda_L = 0\n",
    "    \n",
    "    D = np.zeros((M,K), dtype=float)\n",
    "    for k in range(K):\n",
    "        D[k,k] = 1.0\n",
    "    \n",
    "    theta = 0.25*np.pi\n",
    "    D[0:2,0] = np.array([np.cos(theta),  np.sin(theta)])\n",
    "    D[0:2,1] = np.array([np.sin(theta),  -np.cos(theta)])\n",
    "    \n",
    "    D_0 = np.array(D)\n",
    "    A = np.zeros((K,K))\n",
    "    B = np.zeros((M,K))\n",
    "    print(D)\n",
    "    for i in range(1,T+1):\n",
    "        x = random.choice(x_set)\n",
    "        #a = np.random.normal(0.0001,(M,1))\n",
    "        #x = x + a\n",
    "        \n",
    "        #alpha = alpha_ADMM(lamda,x,D,100)\n",
    "        D,alpha,A,B = ODL(lamda,x,D,A,B)\n",
    "        #print(i,alpha)\n",
    "        \n",
    "        temp_lamda_i,temp_lamda_F_i,temp_lamda_L_i = cost(lamda,x,D,alpha)\n",
    "        temp_lamda += temp_lamda_i\n",
    "        temp_lamda_F += temp_lamda_F_i\n",
    "        temp_lamda_L += temp_lamda_L_i\n",
    "    temp.append(temp_lamda/T)\n",
    "    temp_F.append(temp_lamda_F/T)\n",
    "    temp_L.append(temp_lamda_L/T)\n",
    "    print(D)\n",
    "\n",
    "sys.exit(0)\n",
    "\n",
    "plt.subplot(3,1,1)\n",
    "plt.plot(lamda_D,temp)\n",
    "plt.xlabel(\"lamda\")\n",
    "plt.ylabel(\"Total Cost\")\n",
    "plt.subplot(3,1,2)\n",
    "plt.plot(lamda_D,temp_F)\n",
    "plt.xlabel(\"lamda\")\n",
    "plt.ylabel(\"Fitting Cost\")\n",
    "plt.subplot(3,1,3)\n",
    "plt.plot(lamda_D,temp_L)\n",
    "plt.xlabel(\"lamda\")\n",
    "plt.ylabel(\"L1 Cost\")"
   ]
  },
  {
   "cell_type": "code",
   "execution_count": null,
   "metadata": {
    "collapsed": true
   },
   "outputs": [],
   "source": []
  }
 ],
 "metadata": {
  "anaconda-cloud": {},
  "kernelspec": {
   "display_name": "Python [conda root]",
   "language": "python",
   "name": "conda-root-py"
  },
  "language_info": {
   "codemirror_mode": {
    "name": "ipython",
    "version": 3
   },
   "file_extension": ".py",
   "mimetype": "text/x-python",
   "name": "python",
   "nbconvert_exporter": "python",
   "pygments_lexer": "ipython3",
   "version": "3.5.2"
  }
 },
 "nbformat": 4,
 "nbformat_minor": 1
}
